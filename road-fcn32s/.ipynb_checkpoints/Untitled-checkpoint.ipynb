{
 "cells": [
  {
   "cell_type": "code",
   "execution_count": 27,
   "metadata": {},
   "outputs": [
    {
     "name": "stdout",
     "output_type": "stream",
     "text": [
      ">>>>begin inference\n",
      "4.44353318214\n",
      "('cpu:', 7.464681148529053)\n"
     ]
    }
   ],
   "source": [
    "%matplotlib inline\n",
    "import matplotlib.pyplot as plt \n",
    "import caffe\n",
    "import numpy as np\n",
    "from PIL import Image\n",
    "import os\n",
    "from timeit import timeit\n",
    "import time\n",
    "\n",
    "fcn_root = '/home/chengrenqing/fcn-strip/road-fcn32s/'\n",
    "model_def = os.path.join(fcn_root,'deploy.prototxt')\n",
    "model_weights = os.path.join(fcn_root,'snapshot/train_iter_28000.caffemodel')\n",
    "def preprocess(gray):\n",
    "    im = gray.convert('RGB')\n",
    "    #print im.mode,im.size\n",
    "    in_ = np.array(im, dtype=np.float32)\n",
    "    #print in_.shape,in_\n",
    "    in_ = in_[:,:,::-1] #switch channels RGB -> BGR\n",
    "    in_ -= np.array((105.430,105.430,105.430)) #substract mean\n",
    "    in_ = in_.transpose((2,0,1)) #transpose to channel x height x width\n",
    "    #print in_.shape,in_\n",
    "    return in_\n",
    "def inference(test_image):\n",
    "    gray = Image.open(test_image,'r')\n",
    "#     plt.imshow(gray,cmap='gray')\n",
    "#     plt.show()\n",
    "\n",
    "    height = gray.size[1]\n",
    "    width = gray.size[0]\n",
    "    h_split = np.linspace(0,height,2+1, endpoint=True)\n",
    "    w_split = np.linspace(0,width,5+1,endpoint=True)\n",
    "    s_height = height/2\n",
    "    s_width = width/5\n",
    "    #print gray.size,h_split,w_split,s_height,s_width\n",
    "    \n",
    "    data = []\n",
    "    for i in range(h_split.size-1):\n",
    "        for j in range(w_split.size-1):\n",
    "            gray_s = gray.crop((w_split[j],h_split[i],w_split[j+1],h_split[i+1]))\n",
    "            data.append(preprocess(gray_s))\n",
    "    data = np.array(data)\n",
    "    #print type(data),data.shape\n",
    "    \n",
    "    print '>>>>begin inference'\n",
    "    # init\n",
    "    caffe.set_device(1)\n",
    "    caffe.set_mode_gpu()\n",
    "    # load net\n",
    "    start = time.time()\n",
    "    net = caffe.Net(model_def,model_weights, caffe.TEST)\n",
    "    end = time.time()\n",
    "       \n",
    "    for i in range(data.shape[0]):\n",
    "        #print data[i].shape\n",
    "         # shape for input (data blob is N x C x H x W), set data\n",
    "        net.blobs['data'].reshape(1,*data[i].shape)\n",
    "        net.blobs['data'].data[...] = data[i]\n",
    "        # run net and take argmax for prediction\n",
    "        net.forward()\n",
    "        out = net.blobs['score'].data[0].argmax(axis=0)\n",
    "#         print 'score shape:',net.blobs['score'].data[0].shape\n",
    "#         print 'score shape:',net.blobs['score'].data.shape\n",
    "    \n",
    "    print(end-start)\n",
    "if __name__ == '__main__':\n",
    "    cpu_start = time.time()\n",
    "    test_image = '../data/road_data/Image/G30IA-550+338920-550+338440.jpg'\n",
    "    inference(test_image)\n",
    "    cpu_end = time.time() \n",
    "    print('cpu:', cpu_end - cpu_start)"
   ]
  },
  {
   "cell_type": "code",
   "execution_count": 2,
   "metadata": {},
   "outputs": [
    {
     "name": "stdout",
     "output_type": "stream",
     "text": [
      "score shape:"
     ]
    },
    {
     "ename": "NameError",
     "evalue": "name 'net' is not defined",
     "output_type": "error",
     "traceback": [
      "\u001b[0;31m---------------------------------------------------------------------------\u001b[0m",
      "\u001b[0;31mNameError\u001b[0m                                 Traceback (most recent call last)",
      "\u001b[0;32m<ipython-input-2-05c26cee30c7>\u001b[0m in \u001b[0;36m<module>\u001b[0;34m()\u001b[0m\n\u001b[0;32m----> 1\u001b[0;31m \u001b[0;32mprint\u001b[0m \u001b[0;34m'score shape:'\u001b[0m\u001b[0;34m,\u001b[0m\u001b[0mnet\u001b[0m\u001b[0;34m.\u001b[0m\u001b[0mblobs\u001b[0m\u001b[0;34m[\u001b[0m\u001b[0;34m'score'\u001b[0m\u001b[0;34m]\u001b[0m\u001b[0;34m.\u001b[0m\u001b[0mdata\u001b[0m\u001b[0;34m.\u001b[0m\u001b[0mshape\u001b[0m\u001b[0;34m\u001b[0m\u001b[0m\n\u001b[0m",
      "\u001b[0;31mNameError\u001b[0m: name 'net' is not defined"
     ]
    }
   ],
   "source": [
    "print 'score shape:',net.blobs['score'].data.shape"
   ]
  },
  {
   "cell_type": "code",
   "execution_count": null,
   "metadata": {},
   "outputs": [],
   "source": []
  },
  {
   "cell_type": "code",
   "execution_count": null,
   "metadata": {},
   "outputs": [],
   "source": []
  }
 ],
 "metadata": {
  "kernelspec": {
   "display_name": "Python 2",
   "language": "python",
   "name": "python2"
  },
  "language_info": {
   "codemirror_mode": {
    "name": "ipython",
    "version": 2
   },
   "file_extension": ".py",
   "mimetype": "text/x-python",
   "name": "python",
   "nbconvert_exporter": "python",
   "pygments_lexer": "ipython2",
   "version": "2.7.5"
  }
 },
 "nbformat": 4,
 "nbformat_minor": 2
}
